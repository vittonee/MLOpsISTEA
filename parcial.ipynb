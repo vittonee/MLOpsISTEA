{
 "cells": [
  {
   "cell_type": "code",
   "execution_count": 16,
   "id": "0db3d4fa",
   "metadata": {},
   "outputs": [],
   "source": [
    "import pandas as pd\n",
    "from sklearn.tree import DecisionTreeClassifier\n",
    "from sklearn.metrics import accuracy_score, f1_score, classification_report\n",
    "import mlflow\n",
    "import mlflow.sklearn\n",
    "import pickle"
   ]
  },
  {
   "cell_type": "code",
   "execution_count": 17,
   "id": "8c07f7b6",
   "metadata": {},
   "outputs": [],
   "source": [
    "train_df = pd.read_csv(\"data/train.csv\")\n",
    "test_df = pd.read_csv(\"data/test.csv\")\n",
    "\n",
    "X_train = train_df.drop(\"label\", axis=1)\n",
    "y_train = train_df[\"label\"]\n",
    "\n",
    "X_test = test_df.drop(\"label\", axis=1)\n",
    "y_test = test_df[\"label\"]"
   ]
  },
  {
   "cell_type": "code",
   "execution_count": 18,
   "id": "6be661c1",
   "metadata": {},
   "outputs": [
    {
     "data": {
      "text/plain": [
       "np.int64(0)"
      ]
     },
     "execution_count": 18,
     "metadata": {},
     "output_type": "execute_result"
    }
   ],
   "source": [
    "train_df.isna().sum().sum()"
   ]
  },
  {
   "cell_type": "code",
   "execution_count": 19,
   "id": "5d3839c0",
   "metadata": {},
   "outputs": [
    {
     "data": {
      "text/plain": [
       "np.float64(0.33)"
      ]
     },
     "execution_count": 19,
     "metadata": {},
     "output_type": "execute_result"
    }
   ],
   "source": [
    "round((train_df['label'] == 'A').mean(), 2)"
   ]
  },
  {
   "cell_type": "code",
   "execution_count": 27,
   "id": "328775b5",
   "metadata": {},
   "outputs": [
    {
     "name": "stdout",
     "output_type": "stream",
     "text": [
      "Accuracy: 0.82\n",
      "F1 Score: 0.82\n"
     ]
    }
   ],
   "source": [
    "X_train = train_df.drop(\"label\", axis=1)\n",
    "y_train = train_df[\"label\"]\n",
    "\n",
    "# Cerrar cualquier corrida activa previa\n",
    "if mlflow.active_run():\n",
    "    mlflow.end_run()\n",
    "\n",
    "# Configurar nombre del experimento\n",
    "mlflow.set_experiment(\"decision_tree_training\")\n",
    "\n",
    "with mlflow.start_run():\n",
    "    # Entrenar el modelo\n",
    "    model = DecisionTreeClassifier(\n",
    "        max_depth=3,\n",
    "        min_samples_split=4,\n",
    "        random_state=42\n",
    "    )\n",
    "    model.fit(X_train, y_train)\n",
    "\n",
    "    # Predicciones y métricas\n",
    "    y_pred = model.predict(X_train)\n",
    "    accuracy = accuracy_score(y_train, y_pred)\n",
    "    f1 = f1_score(y_train, y_pred, average=\"weighted\")\n",
    "\n",
    "    # Registrar parámetros y métricas\n",
    "    mlflow.log_param(\"max_depth\", 3)\n",
    "    mlflow.log_param(\"min_samples_split\", 4)\n",
    "    mlflow.log_metric(\"accuracy\", accuracy)\n",
    "    mlflow.log_metric(\"f1_score\", f1)\n",
    "\n",
    "    # Guardar y registrar el modelo como artefacto\n",
    "    with open(\"model_1.pkl\", \"wb\") as f:\n",
    "        pickle.dump(model, f)\n",
    "    mlflow.log_artifact(\"model_1.pkl\")\n",
    "\n",
    "    print(f\"Accuracy: {accuracy:.2f}\")\n",
    "    print(f\"F1 Score: {f1:.2f}\")"
   ]
  },
  {
   "cell_type": "code",
   "execution_count": 28,
   "id": "464ee329",
   "metadata": {},
   "outputs": [
    {
     "name": "stdout",
     "output_type": "stream",
     "text": [
      "Accuracy: 0.93\n",
      "F1 Score: 0.93\n"
     ]
    }
   ],
   "source": [
    "X_train = train_df.drop(\"label\", axis=1)\n",
    "y_train = train_df[\"label\"]\n",
    "\n",
    "# Cerrar cualquier corrida activa previa\n",
    "if mlflow.active_run():\n",
    "    mlflow.end_run()\n",
    "\n",
    "# Configurar nombre del experimento\n",
    "mlflow.set_experiment(\"decision_tree_training\")\n",
    "\n",
    "with mlflow.start_run():\n",
    "    # Entrenar el modelo\n",
    "    model = DecisionTreeClassifier(\n",
    "        max_depth=5,\n",
    "        min_samples_split=2,\n",
    "        random_state=42\n",
    "    )\n",
    "    model.fit(X_train, y_train)\n",
    "\n",
    "    # Predicciones y métricas\n",
    "    y_pred = model.predict(X_train)\n",
    "    accuracy = accuracy_score(y_train, y_pred)\n",
    "    f1 = f1_score(y_train, y_pred, average=\"weighted\")\n",
    "\n",
    "    # Registrar parámetros y métricas\n",
    "    mlflow.log_param(\"max_depth\", 5)\n",
    "    mlflow.log_param(\"min_samples_split\", 2)\n",
    "    mlflow.log_metric(\"accuracy\", accuracy)\n",
    "    mlflow.log_metric(\"f1_score\", f1)\n",
    "\n",
    "    # Guardar y registrar el modelo como artefacto\n",
    "    with open(\"model_2.pkl\", \"wb\") as f:\n",
    "        pickle.dump(model, f)\n",
    "    mlflow.log_artifact(\"model_2.pkl\")\n",
    "\n",
    "    print(f\"Accuracy: {accuracy:.2f}\")\n",
    "    print(f\"F1 Score: {f1:.2f}\")"
   ]
  },
  {
   "cell_type": "code",
   "execution_count": 29,
   "id": "5a0c836d",
   "metadata": {},
   "outputs": [
    {
     "name": "stdout",
     "output_type": "stream",
     "text": [
      "file:///c:/Users/Federico%20Rusi/github/MLOpsISTEA/mlruns/195105915392587647/24f284eb726a4c0ca6793a9869dcc841/artifacts/model_1.pkl\n"
     ]
    }
   ],
   "source": [
    "from mlflow import get_artifact_uri \n",
    "\n",
    "uri = get_artifact_uri(\"model_1.pkl\") \n",
    "\n",
    "print(uri)"
   ]
  }
 ],
 "metadata": {
  "kernelspec": {
   "display_name": "venv",
   "language": "python",
   "name": "python3"
  },
  "language_info": {
   "codemirror_mode": {
    "name": "ipython",
    "version": 3
   },
   "file_extension": ".py",
   "mimetype": "text/x-python",
   "name": "python",
   "nbconvert_exporter": "python",
   "pygments_lexer": "ipython3",
   "version": "3.12.2"
  }
 },
 "nbformat": 4,
 "nbformat_minor": 5
}
